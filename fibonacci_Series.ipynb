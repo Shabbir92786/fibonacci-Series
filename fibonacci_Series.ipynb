{
  "nbformat": 4,
  "nbformat_minor": 0,
  "metadata": {
    "colab": {
      "name": "fibonacci Series.ipynb",
      "provenance": []
    },
    "kernelspec": {
      "name": "python3",
      "display_name": "Python 3"
    }
  },
  "cells": [
    {
      "cell_type": "code",
      "metadata": {
        "id": "vdCgi7AWALeb",
        "colab_type": "code",
        "colab": {
          "base_uri": "https://localhost:8080/",
          "height": 51
        },
        "outputId": "3d592444-5cda-4ccc-d622-6836dfe1ea7a"
      },
      "source": [
        "#fibonacci Series\n",
        "a = int(input(\"Enter the limit of series\"))\n",
        "b = [0,1]\n",
        "'''we use here a-2 because we already used 2 numbers which are 0 & 1.\n",
        "   Here 1st two num. will added and generate 3rd number.\n",
        "   After that last and 2nd last number will added thus this for loop will execute.'''\n",
        "for i in range(a-2):    \n",
        "    c = b[-1]+b[-2]   \n",
        "    b.append(c)\n",
        "print(b)\n",
        "\n"
      ],
      "execution_count": 1,
      "outputs": [
        {
          "output_type": "stream",
          "text": [
            "Enter the limit of series4\n",
            "[0, 1, 1, 2]\n"
          ],
          "name": "stdout"
        }
      ]
    }
  ]
}